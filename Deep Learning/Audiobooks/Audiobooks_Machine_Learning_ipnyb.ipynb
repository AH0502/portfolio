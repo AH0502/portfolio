{
  "nbformat": 4,
  "nbformat_minor": 0,
  "metadata": {
    "colab": {
      "provenance": []
    },
    "kernelspec": {
      "name": "python3",
      "display_name": "Python 3"
    },
    "language_info": {
      "name": "python"
    }
  },
  "cells": [
    {
      "cell_type": "code",
      "source": [],
      "metadata": {
        "id": "wBVBBRTh1C6U"
      },
      "execution_count": null,
      "outputs": []
    },
    {
      "cell_type": "markdown",
      "source": [
        "# We will now create the ML algorithm"
      ],
      "metadata": {
        "id": "dnbkgjYL0JlD"
      }
    },
    {
      "cell_type": "markdown",
      "source": [
        "## Import the relevant libraries"
      ],
      "metadata": {
        "id": "6uJbSE3D05ps"
      }
    },
    {
      "cell_type": "code",
      "source": [
        "import numpy as np\n",
        "import tensorflow as tf\n"
      ],
      "metadata": {
        "id": "kQvUURll09KB"
      },
      "execution_count": null,
      "outputs": []
    },
    {
      "cell_type": "markdown",
      "source": [
        "## Load the data"
      ],
      "metadata": {
        "id": "vwJUVrLm1AGk"
      }
    },
    {
      "cell_type": "code",
      "source": [
        "npz = np.load('/content/drive/MyDrive/Colab Notebooks/Audiobooks/Audiobooks_data_train-2.npz')\n",
        "train_inputs, train_targets = npz['inputs'].astype(np.float32), npz['targets'].astype(np.int32)\n",
        "\n",
        "npz = np.load('/content/drive/MyDrive/Colab Notebooks/Audiobooks/Audiobooks_data_validation.npz')\n",
        "validation_inputs, validation_targets = npz['inputs'].astype(np.float32), npz['targets'].astype(np.int32)\n",
        "\n",
        "npz = np.load('/content/drive/MyDrive/Colab Notebooks/Audiobooks/Audiobooks_data_test.npz')\n",
        "test_inputs, test_targets = npz['inputs'].astype(np.float32), npz['targets'].astype(np.int32)\n",
        "\n",
        "print(train_inputs.shape, train_targets.shape)\n",
        "print(validation_inputs.shape, validation_targets.shape)\n",
        "print(test_inputs.shape, test_targets.shape)"
      ],
      "metadata": {
        "colab": {
          "base_uri": "https://localhost:8080/"
        },
        "id": "Pp3iVixi1Dyi",
        "outputId": "b9886bba-6b09-4d28-ca01-f2595f300668"
      },
      "execution_count": null,
      "outputs": [
        {
          "output_type": "stream",
          "name": "stdout",
          "text": [
            "(3579, 10) (3579,)\n",
            "(447, 10) (447,)\n",
            "(448, 10) (448,)\n"
          ]
        }
      ]
    },
    {
      "cell_type": "markdown",
      "source": [
        "## Model\n"
      ],
      "metadata": {
        "id": "mr2njmFT1ybR"
      }
    },
    {
      "cell_type": "code",
      "source": [
        "input_size = 10\n",
        "output_size = 2\n",
        "hidden_layer_size = 100 # changed from 50-100, down to 40\n",
        "\n",
        "model = tf.keras.Sequential([\n",
        "                             tf.keras.layers.Dense(hidden_layer_size, activation='relu'),\n",
        "                             tf.keras.layers.Dense(hidden_layer_size, activation='relu'),\n",
        "                             tf.keras.layers.Dense(hidden_layer_size, activation='relu'),\n",
        "                             tf.keras.layers.Dense(hidden_layer_size, activation='relu'),\n",
        "                             tf.keras.layers.Dense(output_size, activation='softmax')\n",
        "                            ])\n",
        "model.compile(optimizer='adam', loss='sparse_categorical_crossentropy', metrics=['accuracy'])\n",
        "\n",
        "batch_size = 100\n",
        "max_epochs = 100\n",
        "\n",
        "early_stopping = tf.keras.callbacks.EarlyStopping(patience= 5, verbose=1)\n",
        "\n",
        "model.fit(train_inputs,\n",
        "          train_targets,\n",
        "          batch_size=batch_size,\n",
        "          epochs=max_epochs,\n",
        "          callbacks=early_stopping,\n",
        "          validation_data=(validation_inputs, validation_targets),\n",
        "          verbose=2)"
      ],
      "metadata": {
        "colab": {
          "base_uri": "https://localhost:8080/"
        },
        "id": "IFwQRqxs24ga",
        "outputId": "3cea85e4-8c8e-4aab-d99e-f29bc8692812"
      },
      "execution_count": null,
      "outputs": [
        {
          "output_type": "stream",
          "name": "stdout",
          "text": [
            "Epoch 1/100\n",
            "36/36 - 1s - loss: 0.5100 - accuracy: 0.7228 - val_loss: 0.3786 - val_accuracy: 0.8076 - 1s/epoch - 41ms/step\n",
            "Epoch 2/100\n",
            "36/36 - 0s - loss: 0.3876 - accuracy: 0.7840 - val_loss: 0.3462 - val_accuracy: 0.8054 - 153ms/epoch - 4ms/step\n",
            "Epoch 3/100\n",
            "36/36 - 0s - loss: 0.3599 - accuracy: 0.8061 - val_loss: 0.3437 - val_accuracy: 0.8076 - 163ms/epoch - 5ms/step\n",
            "Epoch 4/100\n",
            "36/36 - 0s - loss: 0.3546 - accuracy: 0.8036 - val_loss: 0.3475 - val_accuracy: 0.7942 - 164ms/epoch - 5ms/step\n",
            "Epoch 5/100\n",
            "36/36 - 0s - loss: 0.3461 - accuracy: 0.8117 - val_loss: 0.3163 - val_accuracy: 0.8143 - 177ms/epoch - 5ms/step\n",
            "Epoch 6/100\n",
            "36/36 - 0s - loss: 0.3435 - accuracy: 0.8170 - val_loss: 0.3309 - val_accuracy: 0.8166 - 146ms/epoch - 4ms/step\n",
            "Epoch 7/100\n",
            "36/36 - 0s - loss: 0.3376 - accuracy: 0.8148 - val_loss: 0.3125 - val_accuracy: 0.8412 - 145ms/epoch - 4ms/step\n",
            "Epoch 8/100\n",
            "36/36 - 0s - loss: 0.3329 - accuracy: 0.8170 - val_loss: 0.3112 - val_accuracy: 0.8300 - 137ms/epoch - 4ms/step\n",
            "Epoch 9/100\n",
            "36/36 - 0s - loss: 0.3318 - accuracy: 0.8254 - val_loss: 0.3272 - val_accuracy: 0.7964 - 136ms/epoch - 4ms/step\n",
            "Epoch 10/100\n",
            "36/36 - 0s - loss: 0.3279 - accuracy: 0.8245 - val_loss: 0.3241 - val_accuracy: 0.8166 - 147ms/epoch - 4ms/step\n",
            "Epoch 11/100\n",
            "36/36 - 0s - loss: 0.3302 - accuracy: 0.8192 - val_loss: 0.3236 - val_accuracy: 0.8054 - 170ms/epoch - 5ms/step\n",
            "Epoch 12/100\n",
            "36/36 - 0s - loss: 0.3212 - accuracy: 0.8262 - val_loss: 0.3038 - val_accuracy: 0.8277 - 139ms/epoch - 4ms/step\n",
            "Epoch 13/100\n",
            "36/36 - 0s - loss: 0.3323 - accuracy: 0.8161 - val_loss: 0.3167 - val_accuracy: 0.8277 - 169ms/epoch - 5ms/step\n",
            "Epoch 14/100\n",
            "36/36 - 0s - loss: 0.3246 - accuracy: 0.8234 - val_loss: 0.3226 - val_accuracy: 0.8255 - 151ms/epoch - 4ms/step\n",
            "Epoch 15/100\n",
            "36/36 - 0s - loss: 0.3248 - accuracy: 0.8259 - val_loss: 0.3119 - val_accuracy: 0.8434 - 152ms/epoch - 4ms/step\n",
            "Epoch 16/100\n",
            "36/36 - 0s - loss: 0.3237 - accuracy: 0.8206 - val_loss: 0.3104 - val_accuracy: 0.8166 - 160ms/epoch - 4ms/step\n",
            "Epoch 17/100\n",
            "36/36 - 0s - loss: 0.3180 - accuracy: 0.8298 - val_loss: 0.3017 - val_accuracy: 0.8456 - 182ms/epoch - 5ms/step\n",
            "Epoch 18/100\n",
            "36/36 - 0s - loss: 0.3249 - accuracy: 0.8201 - val_loss: 0.3438 - val_accuracy: 0.8322 - 170ms/epoch - 5ms/step\n",
            "Epoch 19/100\n",
            "36/36 - 0s - loss: 0.3253 - accuracy: 0.8234 - val_loss: 0.3054 - val_accuracy: 0.8277 - 151ms/epoch - 4ms/step\n",
            "Epoch 20/100\n",
            "36/36 - 0s - loss: 0.3199 - accuracy: 0.8240 - val_loss: 0.3051 - val_accuracy: 0.8210 - 164ms/epoch - 5ms/step\n",
            "Epoch 21/100\n",
            "36/36 - 0s - loss: 0.3154 - accuracy: 0.8282 - val_loss: 0.3086 - val_accuracy: 0.8389 - 152ms/epoch - 4ms/step\n",
            "Epoch 22/100\n",
            "36/36 - 0s - loss: 0.3125 - accuracy: 0.8273 - val_loss: 0.3191 - val_accuracy: 0.8166 - 149ms/epoch - 4ms/step\n",
            "Epoch 22: early stopping\n"
          ]
        },
        {
          "output_type": "execute_result",
          "data": {
            "text/plain": [
              "<keras.src.callbacks.History at 0x7d4d35dad480>"
            ]
          },
          "metadata": {},
          "execution_count": 28
        }
      ]
    },
    {
      "cell_type": "markdown",
      "source": [
        "## Testing"
      ],
      "metadata": {
        "id": "LsKz8z8x5EFy"
      }
    },
    {
      "cell_type": "code",
      "source": [
        "test_loss, test_accuracy = model.evaluate(test_inputs, test_targets, verbose=2)"
      ],
      "metadata": {
        "colab": {
          "base_uri": "https://localhost:8080/"
        },
        "id": "GcQF__ZmDYtw",
        "outputId": "a9ea09f7-a78a-4103-bb0e-05377d32cf5e"
      },
      "execution_count": null,
      "outputs": [
        {
          "output_type": "stream",
          "name": "stdout",
          "text": [
            "14/14 - 0s - loss: 0.3460 - accuracy: 0.8058 - 79ms/epoch - 6ms/step\n"
          ]
        }
      ]
    },
    {
      "cell_type": "code",
      "source": [],
      "metadata": {
        "id": "sKA5sJh8ERxn"
      },
      "execution_count": null,
      "outputs": []
    }
  ]
}